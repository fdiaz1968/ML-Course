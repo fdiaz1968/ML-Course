{
 "cells": [
  {
   "cell_type": "code",
   "execution_count": 51,
   "metadata": {},
   "outputs": [
    {
     "data": {
      "image/png": "[encoded data removed]",
      "text/plain": [
       "<Figure size 640x480 with 1 Axes>"
      ]
     },
     "metadata": {},
     "output_type": "display_data"
    },
    {
     "name": "stdout",
     "output_type": "stream",
     "text": [
      "Media ajustada: 80.0\n",
      "Desviación estándar ajustada: 5.0\n"
     ]
    }
   ],
   "source": [
    "import numpy as np\n",
    "import scipy.stats as stats\n",
    "import matplotlib.pyplot as plt\n",
    "\n",
    "# Parámetros para la distribución gamma\n",
    "shape = 40  # Esto determina la asimetría. Un valor menor que 1 sesga la distribución a la izquierda.\n",
    "scale = 7  # Este parámetro afecta la media y la desviación estándar.\n",
    "\n",
    "# Generar datos de la distribución gamma\n",
    "data = np.random.gamma(shape, scale, 1000)\n",
    "\n",
    "# Ajustar la media y desviación estándar a los valores deseados\n",
    "mean_desired = 80\n",
    "std_desired = 5\n",
    "\n",
    "# Calcular la media y desviación estándar actuales\n",
    "mean_current = np.mean(data)\n",
    "std_current = np.std(data)\n",
    "\n",
    "# Ajustar los datos a la media y desviación estándar deseadas\n",
    "data_adjusted = (data - mean_current) / std_current * std_desired + mean_desired\n",
    "\n",
    "# Graficar la distribución para visualizar\n",
    "plt.hist(data_adjusted, bins=30, edgecolor='black', alpha=0.7)\n",
    "plt.title('Distribución sesgada a la izquierda')\n",
    "plt.xlabel('Valor')\n",
    "plt.ylabel('Frecuencia')\n",
    "plt.show()\n",
    "\n",
    "# Verificar la media y desviación estándar ajustadas\n",
    "print(f'Media ajustada: {np.mean(data_adjusted)}')\n",
    "print(f'Desviación estándar ajustada: {np.std(data_adjusted)}')"
   ]
  },
  {
   "cell_type": "code",
   "execution_count": 61,
   "metadata": {},
   "outputs": [
    {
     "name": "stdout",
     "output_type": "stream",
     "text": [
      "Muestra guardada en sample_data.csv\n"
     ]
    }
   ],
   "source": [
    "\n",
    "import pandas as pd # Generar una muestra aleatoria de 30 datos a partir de la población\n",
    "sample = np.random.choice(data_adjusted, 20, replace=False)\n",
    "\n",
    "# Crear un DataFrame de Pandas a partir de la muestra\n",
    "sample_df = pd.DataFrame(sample, columns=['Sample'])\n",
    "\n",
    "# Guardar la muestra en un archivo CSV\n",
    "sample_df.to_csv('sample_data.csv', index=False)\n",
    "\n",
    "print(\"Muestra guardada en sample_data.csv\")"
   ]
  },
  {
   "cell_type": "code",
   "execution_count": 53,
   "metadata": {},
   "outputs": [
    {
     "data": {
      "text/html": [
       "<div>\n",
       "<style scoped>\n",
       "    .dataframe tbody tr th:only-of-type {\n",
       "        vertical-align: middle;\n",
       "    }\n",
       "\n",
       "    .dataframe tbody tr th {\n",
       "        vertical-align: top;\n",
       "    }\n",
       "\n",
       "    .dataframe thead th {\n",
       "        text-align: right;\n",
       "    }\n",
       "</style>\n",
       "<table border=\"1\" class=\"dataframe\">\n",
       "  <thead>\n",
       "    <tr style=\"text-align: right;\">\n",
       "      <th></th>\n",
       "      <th>Sample</th>\n",
       "    </tr>\n",
       "  </thead>\n",
       "  <tbody>\n",
       "    <tr>\n",
       "      <th>0</th>\n",
       "      <td>72.784142</td>\n",
       "    </tr>\n",
       "    <tr>\n",
       "      <th>1</th>\n",
       "      <td>73.807087</td>\n",
       "    </tr>\n",
       "    <tr>\n",
       "      <th>2</th>\n",
       "      <td>80.078058</td>\n",
       "    </tr>\n",
       "    <tr>\n",
       "      <th>3</th>\n",
       "      <td>76.467326</td>\n",
       "    </tr>\n",
       "    <tr>\n",
       "      <th>4</th>\n",
       "      <td>73.782960</td>\n",
       "    </tr>\n",
       "    <tr>\n",
       "      <th>5</th>\n",
       "      <td>84.451924</td>\n",
       "    </tr>\n",
       "    <tr>\n",
       "      <th>6</th>\n",
       "      <td>83.000172</td>\n",
       "    </tr>\n",
       "    <tr>\n",
       "      <th>7</th>\n",
       "      <td>81.364395</td>\n",
       "    </tr>\n",
       "    <tr>\n",
       "      <th>8</th>\n",
       "      <td>80.345117</td>\n",
       "    </tr>\n",
       "    <tr>\n",
       "      <th>9</th>\n",
       "      <td>80.293412</td>\n",
       "    </tr>\n",
       "    <tr>\n",
       "      <th>10</th>\n",
       "      <td>90.426397</td>\n",
       "    </tr>\n",
       "    <tr>\n",
       "      <th>11</th>\n",
       "      <td>83.275521</td>\n",
       "    </tr>\n",
       "    <tr>\n",
       "      <th>12</th>\n",
       "      <td>87.363109</td>\n",
       "    </tr>\n",
       "    <tr>\n",
       "      <th>13</th>\n",
       "      <td>77.536213</td>\n",
       "    </tr>\n",
       "    <tr>\n",
       "      <th>14</th>\n",
       "      <td>73.983100</td>\n",
       "    </tr>\n",
       "    <tr>\n",
       "      <th>15</th>\n",
       "      <td>85.368068</td>\n",
       "    </tr>\n",
       "    <tr>\n",
       "      <th>16</th>\n",
       "      <td>73.425227</td>\n",
       "    </tr>\n",
       "    <tr>\n",
       "      <th>17</th>\n",
       "      <td>80.271137</td>\n",
       "    </tr>\n",
       "    <tr>\n",
       "      <th>18</th>\n",
       "      <td>76.017389</td>\n",
       "    </tr>\n",
       "    <tr>\n",
       "      <th>19</th>\n",
       "      <td>79.220492</td>\n",
       "    </tr>\n",
       "  </tbody>\n",
       "</table>\n",
       "</div>"
      ],
      "text/plain": [
       "       Sample\n",
       "0   72.784142\n",
       "1   73.807087\n",
       "2   80.078058\n",
       "3   76.467326\n",
       "4   73.782960\n",
       "5   84.451924\n",
       "6   83.000172\n",
       "7   81.364395\n",
       "8   80.345117\n",
       "9   80.293412\n",
       "10  90.426397\n",
       "11  83.275521\n",
       "12  87.363109\n",
       "13  77.536213\n",
       "14  73.983100\n",
       "15  85.368068\n",
       "16  73.425227\n",
       "17  80.271137\n",
       "18  76.017389\n",
       "19  79.220492"
      ]
     },
     "execution_count": 53,
     "metadata": {},
     "output_type": "execute_result"
    }
   ],
   "source": [
    "sample_df"
   ]
  },
  {
   "cell_type": "code",
   "execution_count": 54,
   "metadata": {},
   "outputs": [
    {
     "data": {
      "text/plain": [
       "79.66306224653856"
      ]
     },
     "execution_count": 54,
     "metadata": {},
     "output_type": "execute_result"
    }
   ],
   "source": [
    "np.mean(sample_df['Sample'])"
   ]
  },
  {
   "cell_type": "code",
   "execution_count": null,
   "metadata": {},
   "outputs": [],
   "source": []
  }
 ],
 "metadata": {
  "kernelspec": {
   "display_name": "Python 3",
   "language": "python",
   "name": "python3"
  },
  "language_info": {
   "codemirror_mode": {
    "name": "ipython",
    "version": 3
   },
   "file_extension": ".py",
   "mimetype": "text/x-python",
   "name": "python",
   "nbconvert_exporter": "python",
   "pygments_lexer": "ipython3",
   "version": "3.8.9"
  },
  "orig_nbformat": 4
 },
 "nbformat": 4,
 "nbformat_minor": 2
}
